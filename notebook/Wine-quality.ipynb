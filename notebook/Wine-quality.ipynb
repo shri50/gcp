{
 "cells": [
  {
   "cell_type": "markdown",
   "id": "3a58281c",
   "metadata": {},
   "source": [
    "# Setup use case Wine "
   ]
  },
  {
   "cell_type": "code",
   "execution_count": null,
   "id": "90676797-cfac-43ec-bdd8-f23bc2f4ae62",
   "metadata": {},
   "outputs": [],
   "source": [
    "import requests\n",
    "from io import BytesIO\n",
    "from IPython.display import Image, display\n",
    "from PIL import Image as pil_image\n",
    "\n",
    "file_url = 'https://psitron.s3.ap-southeast-1.amazonaws.com/Machine+Learning+Operations+(MLOps)+Specialization+Course+Jan+2023/GCP+vertex+ai+piplines.png'\n",
    "response = requests.get(file_url)\n",
    "pil_img = pil_image.open(BytesIO(response.content)).convert('RGB')\n",
    "\n",
    "display(pil_img)"
   ]
  },
  {
   "cell_type": "markdown",
   "id": "08f0d145",
   "metadata": {},
   "source": [
    "### Set up the auto completion"
   ]
  },
  {
   "cell_type": "code",
   "execution_count": null,
   "id": "a66c08dd",
   "metadata": {},
   "outputs": [],
   "source": [
    "#install auto-completion \n",
    "!pip install jupyter_contrib_nbextensions\n",
    "!jupyter contrib nbextension install --user\n",
    "from jedi import settings\n",
    "settings.case_insensitive_completion = True"
   ]
  },
  {
   "cell_type": "markdown",
   "id": "d1a80b81",
   "metadata": {},
   "source": [
    "### Set up the environment \n",
    "- Python 3\n",
    "- virtualenv\n",
    "- Jupyter notebook running in a virtual environment with Python 3\n",
    "- Docker\n",
    "- Git\n",
    "- Google Cloud SDK (gcloud)"
   ]
  },
  {
   "cell_type": "markdown",
   "id": "66c7d622",
   "metadata": {},
   "source": [
    "### Enable  the APIs if they are not enabled "
   ]
  },
  {
   "cell_type": "code",
   "execution_count": null,
   "id": "ce260c53",
   "metadata": {},
   "outputs": [],
   "source": [
    "!gcloud services enable compute.googleapis.com         \\\n",
    "                       containerregistry.googleapis.com  \\\n",
    "                       aiplatform.googleapis.com  \\\n",
    "                       cloudbuild.googleapis.com \\\n",
    "                       cloudfunctions.googleapis.com\n"
   ]
  },
  {
   "cell_type": "markdown",
   "id": "a829d243",
   "metadata": {},
   "source": [
    "## Uncomment all needed cells if you need to install missing packages "
   ]
  },
  {
   "cell_type": "code",
   "execution_count": null,
   "id": "689753be",
   "metadata": {},
   "outputs": [],
   "source": [
    "# Install ai platform and kfp\n",
    "USER_FLAG = \"--user\"\n",
    "!pip3 install {USER_FLAG} google-cloud-aiplatform==1.3.0 --upgrade\n",
    "!pip3 install {USER_FLAG} kfp --upgrade"
   ]
  },
  {
   "cell_type": "code",
   "execution_count": null,
   "id": "0f5178cf-6f38-481f-a157-29932aab4234",
   "metadata": {},
   "outputs": [],
   "source": [
    "!pip install google-cloud-pipeline-components --user"
   ]
  },
  {
   "cell_type": "code",
   "execution_count": null,
   "id": "d9ceae6c",
   "metadata": {},
   "outputs": [],
   "source": [
    "# Restart the kernel\n",
    "import os\n",
    "\n",
    "if not os.getenv(\"IS_TESTING\"):\n",
    "    # Automatically restart kernel after installs\n",
    "    import IPython\n",
    "\n",
    "    app = IPython.Application.instance()\n",
    "    app.kernel.do_shutdown(True)\n"
   ]
  },
  {
   "cell_type": "markdown",
   "id": "f0c08242",
   "metadata": {},
   "source": [
    "#### Set up the global variables "
   ]
  },
  {
   "cell_type": "code",
   "execution_count": null,
   "id": "e4377cd5",
   "metadata": {},
   "outputs": [],
   "source": [
    "PATH=%env PATH\n",
    "%env PATH={PATH}:/home/jupyter/.local/bin\n",
    "REGION=\"europe-west1\"\n",
    "\n",
    "# Get projet name\n",
    "shell_output=!gcloud config get-value project 2> /dev/null\n",
    "PROJECT_ID=shell_output[0]\n",
    "\n",
    "# Set bucket name\n",
    "BUCKET_NAME=\"gs://\"+PROJECT_ID+\"-bucket-winequality\"\n",
    "\n",
    "# Create bucket\n",
    "PIPELINE_ROOT = f\"{BUCKET_NAME}/pipeline_root_wine/\"\n",
    "PIPELINE_ROOT\n",
    "\n",
    "USER_FLAG = \"--user\"\n"
   ]
  },
  {
   "cell_type": "markdown",
   "id": "77c4c16c",
   "metadata": {},
   "source": [
    "## Import Libraries\n",
    " * Artifact,\n",
    " * Dataset,\n",
    " * Input,\n",
    " * Model,\n",
    " * Output,\n",
    " * Metrics,\n",
    " * ClassificationMetrics\n",
    " * InputPath\n",
    " * OutputPath"
   ]
  },
  {
   "cell_type": "code",
   "execution_count": null,
   "id": "d7045865-bd22-483f-a9cc-e7557be922b4",
   "metadata": {},
   "outputs": [],
   "source": [
    "!pip install -U google-cloud-pipeline-components"
   ]
  },
  {
   "cell_type": "code",
   "execution_count": null,
   "id": "95845cc3",
   "metadata": {},
   "outputs": [],
   "source": [
    "from typing import NamedTuple\n",
    "import typing\n",
    "from kfp.v2 import dsl\n",
    "from kfp.v2.dsl import (Artifact,\n",
    "                        Dataset,\n",
    "                        Input,\n",
    "                        Model,\n",
    "                        Output,\n",
    "                        Metrics,\n",
    "                        ClassificationMetrics,\n",
    "                        component, \n",
    "                        OutputPath, \n",
    "                        InputPath)\n",
    "\n",
    "from kfp.v2 import compiler\n",
    "from google.cloud import bigquery\n",
    "from google.cloud import aiplatform\n",
    "from google.cloud.aiplatform import pipeline_jobs\n",
    "#from google_cloud_pipeline_components import aiplatform as gcc_aip\n",
    "\n"
   ]
  },
  {
   "cell_type": "markdown",
   "id": "459d2b87",
   "metadata": {},
   "source": [
    "### Create pipeline\n",
    "\n",
    "We create 4 components:  \n",
    "- Load data   \n",
    "- Train a  model\n",
    "- Evaluate the model \n",
    "- Deploy the model\n",
    "\n",
    "The components have dependencies on `pandas`, `sklearn`."
   ]
  },
  {
   "cell_type": "code",
   "execution_count": null,
   "id": "5bd2d50e",
   "metadata": {},
   "outputs": [],
   "source": [
    "# List columns\n",
    "import pandas as pd\n",
    "df_wine = pd.read_csv(\"http://archive.ics.uci.edu/ml/machine-learning-databases/wine-quality/winequality-white.csv\", delimiter=\";\")\n",
    "df_wine"
   ]
  },
  {
   "cell_type": "markdown",
   "id": "d77ab8e5",
   "metadata": {},
   "source": [
    "Available columns: \n",
    "- volatile acidity :   Volatile acidity is the gaseous acids present in wine.\n",
    "- fixed acidity :   Primary fixed acids found in wine are tartaric, succinic, citric, and malic\n",
    "- residual sugar :   Amount of sugar left after fermentation.\n",
    "- citric acid :    It is weak organic acid, found in citrus fruits naturally.\n",
    "- chlorides :   Amount of salt present in wine.\n",
    "- free sulfur dioxide :   So2 is used for prevention of wine by oxidation and microbial spoilage.\n",
    "- total sulfur dioxide \n",
    "- pH :   In wine pH is used for checking acidity\n",
    "- density \n",
    "- sulphates :    Added sulfites preserve freshness and protect wine from oxidation, and bacteria.\n",
    "- alcohol :   Percent of alcohol present in wine.\n",
    "\n"
   ]
  },
  {
   "cell_type": "code",
   "execution_count": null,
   "id": "fb2b97ad-bde6-4638-adbb-87e9211048af",
   "metadata": {},
   "outputs": [],
   "source": [
    "import sklearn\n",
    "print(sklearn.__version__)\n"
   ]
  },
  {
   "cell_type": "markdown",
   "id": "15fa24c0",
   "metadata": {},
   "source": [
    "### Read the wine quality dataset "
   ]
  },
  {
   "cell_type": "code",
   "execution_count": null,
   "id": "51b051c9",
   "metadata": {},
   "outputs": [],
   "source": [
    "#@component decorator in a Python script to define a Kubeflow \n",
    "@component(\n",
    "    packages_to_install=[\"pandas\", \"pyarrow\", \"scikit-learn==1.0.2\"],\n",
    "    base_image=\"python:3.9\",\n",
    "    output_component_file=\"get_wine_data.yaml\"\n",
    ")\n",
    "\n",
    "def get_wine_data(\n",
    "    url: str,\n",
    "    dataset_train: Output[Dataset],\n",
    "    dataset_test: Output[Dataset]\n",
    "):\n",
    "    import pandas as pd\n",
    "    import numpy as np\n",
    "    from sklearn.model_selection import train_test_split as tts\n",
    "    \n",
    "    df_wine = pd.read_csv(url, delimiter=\";\")\n",
    "    df_wine['best_quality'] = [ 1 if x>=7 else 0 for x in df_wine.quality] \n",
    "    df_wine['target'] = df_wine.best_quality\n",
    "    df_wine = df_wine.drop(['quality', 'total sulfur dioxide', 'best_quality'], axis=1)\n",
    "   \n",
    "   \n",
    "    train, test = tts(df_wine, test_size=0.3)\n",
    "    train.to_csv(dataset_train.path + \".csv\" , index=False, encoding='utf-8-sig')\n",
    "    test.to_csv(dataset_test.path + \".csv\" , index=False, encoding='utf-8-sig')\n",
    "    \n"
   ]
  },
  {
   "cell_type": "markdown",
   "id": "de33e87f",
   "metadata": {},
   "source": [
    "#### Train the wine quality model\n"
   ]
  },
  {
   "cell_type": "code",
   "execution_count": null,
   "id": "9a50fc15",
   "metadata": {},
   "outputs": [],
   "source": [
    "@component(\n",
    "    packages_to_install = [\n",
    "        \"pandas\",\n",
    "        \"scikit-learn==1.0.2\"\n",
    "    ], base_image=\"python:3.9\",\n",
    ")\n",
    "def train_winequality(\n",
    "    dataset:  Input[Dataset],\n",
    "    model: Output[Model], \n",
    "):\n",
    "    \n",
    "    from sklearn.ensemble import RandomForestClassifier\n",
    "    import pandas as pd\n",
    "    import pickle\n",
    "\n",
    "    data = pd.read_csv(dataset.path+\".csv\")\n",
    "    model_rf = RandomForestClassifier(n_estimators=10)\n",
    "    model_rf.fit(\n",
    "        data.drop(columns=[\"target\"]),\n",
    "        data.target,\n",
    "    )\n",
    "    model.metadata[\"framework\"] = \"RF\"\n",
    "    file_name = model.path + f\".pkl\"\n",
    "    with open(file_name, 'wb') as file:  \n",
    "        pickle.dump(model_rf, file)\n",
    "        "
   ]
  },
  {
   "cell_type": "markdown",
   "id": "fdec3aea",
   "metadata": {},
   "source": [
    "#### Evaluate the model "
   ]
  },
  {
   "cell_type": "code",
   "execution_count": null,
   "id": "c1b304bb",
   "metadata": {},
   "outputs": [],
   "source": [
    "@component(\n",
    "    packages_to_install = [\n",
    "        \"pandas\",\n",
    "        \"scikit-learn==1.0.2\"\n",
    "    ], base_image=\"python:3.9\",\n",
    ")\n",
    "def winequality_evaluation(\n",
    "    test_set:  Input[Dataset],\n",
    "    rf_winequality_model: Input[Model],\n",
    "    thresholds_dict_str: str,\n",
    "    metrics: Output[ClassificationMetrics],\n",
    "    kpi: Output[Metrics]\n",
    ") -> NamedTuple(\"output\", [(\"deploy\", str)]):\n",
    "\n",
    "    from sklearn.ensemble import RandomForestClassifier\n",
    "    import pandas as pd\n",
    "    import logging \n",
    "    import pickle\n",
    "    from sklearn.metrics import roc_curve, confusion_matrix, accuracy_score\n",
    "    import json\n",
    "    import typing\n",
    "\n",
    "    \n",
    "    def threshold_check(val1, val2):\n",
    "        cond = \"false\"\n",
    "        if val1 >= val2 :\n",
    "            cond = \"true\"\n",
    "        return cond\n",
    "\n",
    "    data = pd.read_csv(test_set.path+\".csv\")\n",
    "    model = RandomForestClassifier()\n",
    "    file_name = rf_winequality_model.path + \".pkl\"\n",
    "    with open(file_name, 'rb') as file:  \n",
    "        model = pickle.load(file)\n",
    "    \n",
    "    y_test = data.drop(columns=[\"target\"])\n",
    "    y_target=data.target\n",
    "    y_pred = model.predict(y_test)\n",
    "    \n",
    "\n",
    "    y_scores =  model.predict_proba(data.drop(columns=[\"target\"]))[:, 1]\n",
    "    fpr, tpr, thresholds = roc_curve(\n",
    "         y_true=data.target.to_numpy(), y_score=y_scores, pos_label=True\n",
    "    )\n",
    "    metrics.log_roc_curve(fpr.tolist(), tpr.tolist(), thresholds.tolist())  \n",
    "    \n",
    "    metrics.log_confusion_matrix(\n",
    "       [\"False\", \"True\"],\n",
    "       confusion_matrix(\n",
    "           data.target, y_pred\n",
    "       ).tolist(), \n",
    "    )\n",
    "    \n",
    "    accuracy = accuracy_score(data.target, y_pred.round())\n",
    "    thresholds_dict = json.loads(thresholds_dict_str)\n",
    "    rf_winequality_model.metadata[\"accuracy\"] = float(accuracy)\n",
    "    kpi.log_metric(\"accuracy\", float(accuracy))\n",
    "    deploy = threshold_check(float(accuracy), int(thresholds_dict['roc']))\n",
    "    return (deploy,)\n",
    "    \n",
    "\n",
    "    "
   ]
  },
  {
   "cell_type": "markdown",
   "id": "139b5ad2",
   "metadata": {},
   "source": [
    "### Deploy model "
   ]
  },
  {
   "cell_type": "code",
   "execution_count": null,
   "id": "0ae07652",
   "metadata": {},
   "outputs": [],
   "source": [
    "@component(\n",
    "    packages_to_install=[\"google-cloud-aiplatform\", \"scikit-learn==1.0.2\",  \"kfp\"],\n",
    "    #base_image=\"europe-west1-docker.pkg.dev/PROJECT_ID/wine-train/scikit-learn-winequality:latest\",\n",
    "    base_image=\"python:3.9\",\n",
    "    output_component_file=\"model_winequality_coponent.yml\"\n",
    ")\n",
    "def deploy_winequality(\n",
    "    model: Input[Model],\n",
    "    project: str,\n",
    "    region: str,\n",
    "    serving_container_image_uri : str, \n",
    "    vertex_endpoint: Output[Artifact],\n",
    "    vertex_model: Output[Model]\n",
    "):\n",
    "    from google.cloud import aiplatform\n",
    "    aiplatform.init(project=project, location=region)\n",
    "\n",
    "    DISPLAY_NAME  = \"winequality\"\n",
    "    MODEL_NAME = \"winequality-rf\"\n",
    "    ENDPOINT_NAME = \"winequality_endpoint\"\n",
    "    \n",
    "    def create_endpoint():\n",
    "        endpoints = aiplatform.Endpoint.list(\n",
    "        filter='display_name=\"{}\"'.format(ENDPOINT_NAME),\n",
    "        order_by='create_time desc',\n",
    "        project=project, \n",
    "        location=region,\n",
    "        )\n",
    "        if len(endpoints) > 0:\n",
    "            endpoint = endpoints[0]  # most recently created\n",
    "        else:\n",
    "            endpoint = aiplatform.Endpoint.create(\n",
    "            display_name=ENDPOINT_NAME, project=project, location=region\n",
    "        )\n",
    "    endpoint = create_endpoint()   \n",
    "    \n",
    "    \n",
    "    #Import a model programmatically\n",
    "    model_upload = aiplatform.Model.upload(\n",
    "        display_name = DISPLAY_NAME, \n",
    "        artifact_uri = model.uri.replace(\"model\", \"\"),\n",
    "        serving_container_image_uri =  serving_container_image_uri,\n",
    "        serving_container_health_route=f\"/v1/models/{MODEL_NAME}\",\n",
    "        serving_container_predict_route=f\"/v1/models/{MODEL_NAME}:predict\",\n",
    "        serving_container_environment_variables={\n",
    "        \"MODEL_NAME\": MODEL_NAME,\n",
    "    },       \n",
    "    )\n",
    "    model_deploy = model_upload.deploy(\n",
    "        machine_type=\"n1-standard-4\", \n",
    "        endpoint=endpoint,\n",
    "        traffic_split={\"0\": 100},\n",
    "        deployed_model_display_name=DISPLAY_NAME,\n",
    "    )\n",
    "\n",
    "    # Save data to the output params\n",
    "    vertex_model.uri = model_deploy.resource_name"
   ]
  },
  {
   "cell_type": "code",
   "execution_count": null,
   "id": "7902a0f7",
   "metadata": {},
   "outputs": [],
   "source": [
    "from datetime import datetime\n",
    "\n",
    "TIMESTAMP =datetime.now().strftime(\"%Y%m%d%H%M%S\")\n",
    "DISPLAY_NAME = 'pipeline-winequality-job{}'.format(TIMESTAMP)"
   ]
  },
  {
   "cell_type": "markdown",
   "id": "f98bd8c3",
   "metadata": {},
   "source": [
    "#### Create the Pipeline\n",
    "\n",
    "Once you have created all the needed components define the pipeline and then compile it into a `.json` file."
   ]
  },
  {
   "cell_type": "code",
   "execution_count": null,
   "id": "d3d5f227",
   "metadata": {},
   "outputs": [],
   "source": [
    "@dsl.pipeline(\n",
    "    # Default pipeline root. You can override it when submitting the pipeline.\n",
    "    pipeline_root=PIPELINE_ROOT,\n",
    "    # A name for the pipeline. Use to determine the pipeline Context.\n",
    "    name=\"pipeline-winequality\",\n",
    "    \n",
    ")\n",
    "def pipeline(\n",
    "    url: str = \"http://archive.ics.uci.edu/ml/machine-learning-databases/wine-quality/winequality-white.csv\",\n",
    "    project: str = PROJECT_ID,\n",
    "    region: str = REGION, \n",
    "    display_name: str = DISPLAY_NAME,\n",
    "    api_endpoint: str = REGION+\"-aiplatform.googleapis.com\",\n",
    "    thresholds_dict_str: str = '{\"roc\":0.8}',\n",
    "    serving_container_image_uri: str = \"europe-docker.pkg.dev/vertex-ai/prediction/sklearn-cpu.0-24:latest\"\n",
    "    ):\n",
    "    \n",
    "    data_op = get_wine_data(url=url)\n",
    "    train_model_op = train_winequality(dataset=data_op.outputs[\"dataset_train\"])\n",
    "    model_evaluation_op = winequality_evaluation(\n",
    "        test_set=data_op.outputs[\"dataset_test\"],\n",
    "        rf_winequality_model=train_model_op.outputs[\"model\"],\n",
    "        thresholds_dict_str = thresholds_dict_str, # I deploy the model anly if the model performance is above the threshold\n",
    "    )\n",
    "    \n",
    "    with dsl.Condition(\n",
    "        model_evaluation_op.outputs[\"deploy\"]==\"true\",\n",
    "        name=\"deploy-winequality\",\n",
    "    ):\n",
    "           \n",
    "        deploy_model_op = deploy_winequality(\n",
    "        model=train_model_op.outputs['model'],\n",
    "        project=project,\n",
    "        region=region, \n",
    "        serving_container_image_uri = serving_container_image_uri,\n",
    "        )\n",
    "    "
   ]
  },
  {
   "cell_type": "markdown",
   "id": "6ba00f47",
   "metadata": {},
   "source": [
    "### Compile and run the pipeline"
   ]
  },
  {
   "cell_type": "code",
   "execution_count": null,
   "id": "d68ec6e4",
   "metadata": {},
   "outputs": [],
   "source": [
    "compiler.Compiler().compile(pipeline_func=pipeline,\n",
    "        package_path='ml_winequality.json')"
   ]
  },
  {
   "cell_type": "code",
   "execution_count": null,
   "id": "7fc7493c-0501-416d-8637-5c9278ec4de8",
   "metadata": {},
   "outputs": [],
   "source": [
    "#compiler.Compiler().compile(pipeline_func=pipeline,\n",
    "        #package_path='ml_winequality.yaml')"
   ]
  },
  {
   "cell_type": "markdown",
   "id": "c68be6e6",
   "metadata": {},
   "source": [
    "The pipeline compilation generates the **ml_winequality.json** job spec file."
   ]
  },
  {
   "cell_type": "code",
   "execution_count": null,
   "id": "f1e47a43",
   "metadata": {},
   "outputs": [],
   "source": [
    "### Create a run "
   ]
  },
  {
   "cell_type": "code",
   "execution_count": null,
   "id": "b24bac81",
   "metadata": {},
   "outputs": [],
   "source": [
    "start_pipeline = pipeline_jobs.PipelineJob(\n",
    "    display_name=\"winequality-pipeline\",\n",
    "    template_path=\"ml_winequality.json\",\n",
    "    enable_caching=False,\n",
    "    location=REGION,\n",
    ")"
   ]
  },
  {
   "cell_type": "code",
   "execution_count": null,
   "id": "80f7bd3b",
   "metadata": {},
   "outputs": [],
   "source": [
    "start_pipeline.run()"
   ]
  },
  {
   "cell_type": "markdown",
   "id": "dcb26db0",
   "metadata": {},
   "source": [
    "### List all models "
   ]
  },
  {
   "cell_type": "code",
   "execution_count": null,
   "id": "8e9c6097",
   "metadata": {},
   "outputs": [],
   "source": [
    "DISPLAY_NAME = \"winequality\"\n",
    "! gcloud ai models list --region={REGION} --filter={DISPLAY_NAME}"
   ]
  },
  {
   "cell_type": "markdown",
   "id": "a1de419e",
   "metadata": {},
   "source": [
    "## Schedule pipeline "
   ]
  },
  {
   "cell_type": "markdown",
   "id": "fa4d06b5",
   "metadata": {},
   "source": [
    "### Run recurrent pipeline"
   ]
  },
  {
   "cell_type": "code",
   "execution_count": null,
   "id": "f6093be0-7f88-40b4-bfee-4503c33deeb2",
   "metadata": {},
   "outputs": [],
   "source": [
    "#Schedule your pipelines to run recurrently\n",
    "\n",
    "from google.cloud import aiplatform\n",
    "\n",
    "pipeline_job = aiplatform.PipelineJob(\n",
    "  template_path=\"ml_winequality.json\",\n",
    "  pipeline_root=PIPELINE_ROOT_PATH,\n",
    "  display_name=\"ml_winequality\",\n",
    ")\n",
    "\n",
    "pipeline_job_schedule = aiplatform.PipelineJobSchedule(\n",
    "  pipeline_job=pipeline_job,\n",
    "  display_name=\"ml_winequality\"\n",
    ")\n",
    "\n",
    "pipeline_job_schedule.create(\n",
    "  cron=\"0 0 * * *\",\n",
    "  max_concurrent_run_count=1,\n",
    "  max_run_count=10,\n",
    ")\n"
   ]
  },
  {
   "cell_type": "code",
   "execution_count": null,
   "id": "386bb6b9-00ea-4709-9557-b9bee19e495d",
   "metadata": {},
   "outputs": [],
   "source": [
    "#List your all scheduled pipelines\n",
    "from google.cloud import aiplatform\n",
    "\n",
    "aiplatform.PipelineJobSchedule.list(\n",
    "  filter='display_name=\"ml_winequality\"',\n",
    "  order_by='create_time desc'\n",
    ")"
   ]
  },
  {
   "cell_type": "markdown",
   "id": "cf61af7d",
   "metadata": {},
   "source": [
    "### Test the batch prediction  "
   ]
  },
  {
   "cell_type": "code",
   "execution_count": null,
   "id": "e748c28b",
   "metadata": {},
   "outputs": [],
   "source": [
    "## Optional Don't run\n",
    "# Define variables \n",
    "job_display_name = \"winequality-batch-prediction-job\"\n",
    "MODEL_NAME=\"winequality\"\n",
    "ENDPOINT_NAME=\"winequality_endpoint\"\n",
    "BUCKET_URI=\"gs://your-bucket-winequality/pipeline_root_wine/332188XXXX/pipeline-winequality-20211227155508/get-wine-data_8271177375014715392\"\n",
    "input_file_name=\"test.csv\"\n",
    "\n",
    "# Get model id\n",
    "MODEL_ID=!(gcloud ai models list --region=$REGION \\\n",
    "           --filter=display_name=$MODEL_NAME)\n",
    "MODEL_ID=MODEL_ID[2].split(\" \")[0]\n",
    "\n",
    "model_resource_name = f'projects/{PROJECT_ID}/locations/{REGION}/models/{MODEL_ID}'\n",
    "gcs_source= [f\"{BUCKET_URI}/{input_file_name}\"]\n",
    "gcs_destination_prefix=f\"{BUCKET_URI}/output\"\n",
    "\n",
    "def batch_prediction_job(\n",
    "    project: str,\n",
    "    location: str,\n",
    "    model_resource_name: str,\n",
    "    job_display_name: str,\n",
    "    gcs_source: str,\n",
    "    gcs_destination_prefix: str,\n",
    "    machine_type: str,\n",
    "    starting_replica_count: int = 1, # The number of nodes for this batch prediction job. \n",
    "    max_replica_count: int = 1,    \n",
    "):   \n",
    "    aiplatform.init(project=project, location=location)\n",
    "\n",
    "    model = aiplatform.Model(model_resource_name)\n",
    "\n",
    "    batch_prediction_job = model.batch_predict(\n",
    "        job_display_name=job_display_name,\n",
    "        instances_format='csv', #json\n",
    "        gcs_source=[f\"{BUCKET_URI}/{input_file_name}\"],\n",
    "        gcs_destination_prefix=f\"{BUCKET_URI}/output\",\n",
    "        machine_type=machine_type, # must be present      \n",
    "    )\n",
    "    batch_prediction_job.wait()\n",
    "    print(batch_prediction_job.display_name)\n",
    "    print(batch_prediction_job.state)\n",
    "    return batch_prediction_job\n",
    "\n",
    "batch_prediction_job(PROJECT_ID, REGION, model_resource_name, job_display_name, gcs_source, gcs_destination_prefix, machine_type=\"n1-standard-2\")"
   ]
  },
  {
   "cell_type": "markdown",
   "id": "a14ebfea",
   "metadata": {},
   "source": [
    "### Send an online prediction request\n",
    "Each prediction request must be max. 1.5 MB."
   ]
  },
  {
   "cell_type": "code",
   "execution_count": null,
   "id": "f69cd649",
   "metadata": {},
   "outputs": [],
   "source": [
    "from google.cloud import aiplatform\n",
    "#print(\"aiplatform version: \", aiplatform.__version__)\n",
    "\n",
    "ENDPOINT_NAME=\"winequality_endpoint\"\n",
    "instance = [[7.2, 0.23, 0.32, 8.5, 0.058, 47, 132, 0.993, 3.12, 0.46]]\n",
    "#instance = [[6.7,0.23,0.31,2.1,0.046,30,0.9926,3.33,0.64,10.7]]\n",
    "ENDPOINT_ID = !(gcloud ai endpoints list --region=$REGION \\\n",
    "              --format='value(ENDPOINT_ID)'\\\n",
    "              --filter=display_name=$ENDPOINT_NAME \\\n",
    "              --sort-by=creationTimeStamp | tail -1)\n",
    "ENDPOINT_ID = ENDPOINT_ID[1]\n",
    "\n",
    "def endpoint_predict(\n",
    "    project: str, location: str, instances: list, endpoint: str\n",
    "):\n",
    "    aiplatform.init(project=project, location=location)\n",
    "\n",
    "    endpoint = aiplatform.Endpoint(endpoint)\n",
    "\n",
    "    prediction = endpoint.predict(instances=instances)\n",
    "    return prediction\n",
    "\n",
    "endpoint_predict(PROJECT_ID, REGION, instance, ENDPOINT_ID)\n"
   ]
  },
  {
   "cell_type": "code",
   "execution_count": null,
   "id": "36fc242e-9d9f-47e3-8ad8-e920f221d27c",
   "metadata": {},
   "outputs": [],
   "source": []
  }
 ],
 "metadata": {
  "environment": {
   "kernel": "vertex_env",
   "name": "tf2-gpu.2-8.m104",
   "type": "gcloud",
   "uri": "gcr.io/deeplearning-platform-release/tf2-gpu.2-8:m104"
  },
  "kernelspec": {
   "display_name": "Python (Local)",
   "language": "python",
   "name": "local-base"
  },
  "language_info": {
   "codemirror_mode": {
    "name": "ipython",
    "version": 3
   },
   "file_extension": ".py",
   "mimetype": "text/x-python",
   "name": "python",
   "nbconvert_exporter": "python",
   "pygments_lexer": "ipython3",
   "version": "3.7.12"
  },
  "widgets": {
   "application/vnd.jupyter.widget-state+json": {
    "state": {},
    "version_major": 2,
    "version_minor": 0
   }
  }
 },
 "nbformat": 4,
 "nbformat_minor": 5
}
